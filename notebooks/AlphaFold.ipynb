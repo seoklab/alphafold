{
  "cells": [
    {
      "cell_type": "markdown",
      "metadata": {
        "id": "pc5-mbsX9PZC"
      },
      "source": [
        "**SERVICE UNAVAILABLE**\n",
        "\n",
        "**This notebook is no longer supported. Please use [ColabFold](https://github.com/sokrypton/ColabFold) (for AlphaFold 2) or [AlphaFold Server](https://alphafoldserver.com/) (for AlphaFold 3).**\n"
      ]
    }
  ],
  "metadata": {
    "accelerator": "GPU",
    "colab": {
      "name": "AlphaFold.ipynb",
      "private_outputs": true,
      "provenance": []
    },
    "kernelspec": {
      "display_name": "Python 3",
      "name": "python3"
    },
    "language_info": {
      "name": "python"
    }
  },
  "nbformat": 4,
  "nbformat_minor": 0
}
